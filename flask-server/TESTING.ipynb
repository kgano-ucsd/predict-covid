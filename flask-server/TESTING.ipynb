{
 "cells": [
  {
   "cell_type": "code",
   "execution_count": 31,
   "metadata": {},
   "outputs": [
    {
     "name": "stderr",
     "output_type": "stream",
     "text": [
      "/opt/miniconda3/envs/treehax2/lib/python3.8/site-packages/torchvision/models/_utils.py:208: UserWarning: The parameter 'pretrained' is deprecated since 0.13 and may be removed in the future, please use 'weights' instead.\n",
      "  warnings.warn(\n",
      "/opt/miniconda3/envs/treehax2/lib/python3.8/site-packages/torchvision/models/_utils.py:223: UserWarning: Arguments other than a weight enum or `None` for 'weights' are deprecated since 0.13 and may be removed in the future. The current behavior is equivalent to passing `weights=DenseNet121_Weights.IMAGENET1K_V1`. You can also use `weights=DenseNet121_Weights.DEFAULT` to get the most up-to-date weights.\n",
      "  warnings.warn(msg)\n"
     ]
    },
    {
     "name": "stdout",
     "output_type": "stream",
     "text": [
      "Warning: target_layers is ignored in FullGrad. All bias layers will be used instead\n",
      "['COVID Positive', 'COVID Negative']\n"
     ]
    }
   ],
   "source": [
    "from internal import *\n",
    "import torch\n",
    "from pytorch_grad_cam import *\n",
    "from pytorch_grad_cam.utils.image import show_cam_on_image, \\\n",
    "    preprocess_image\n",
    "\n",
    "num_classes=2\n",
    "model_main = DenseNet121(num_classes,pretrained=True)\n",
    "checkpoint0 = torch.load(\"Model_densenet121_state.pth\")\n",
    "model_main.load_state_dict(checkpoint0)\n",
    "model_main.eval()\n",
    "\n",
    "def reshape_transform(tensor):\n",
    "\n",
    "    return tensor\n",
    "\n",
    "layer = [model_main.encoder4]\n",
    "\n",
    "cam = FullGrad(model=model_main,\n",
    "            target_layers=layer,\n",
    "            reshape_transform=reshape_transform)\n",
    "COVID = f\"data/training/COVID/\"\n",
    "NO_COVID = f\"data/training/NonCOVID/\"\n",
    "\n",
    "image_path = f\"database/patient5/Patient5.png\"\n",
    "rgb_img = preprocess(image_path)[:, :, ::-1]\n",
    "# rgb_img = cv2.resize(rgb_img, (224, 224))\n",
    "rgb_img = np.float32(rgb_img) / 255\n",
    "\n",
    "input_tensor = preprocess_image(rgb_img, mean=[0.5, 0.5, 0.5],\n",
    "                                    std=[0.5, 0.5, 0.5])\n",
    "\n",
    "# Otherwise, targets the requested category.\n",
    "targets = None\n",
    "\n",
    "# AblationCAM and ScoreCAM have batched implementations.\n",
    "# You can override the internal batch size for faster computation.\n",
    "cam.batch_size = 32\n",
    "\n",
    "grayscale_cam = cam(input_tensor=input_tensor,\n",
    "                    targets=targets)\n",
    "\n",
    "# Here grayscale_cam has only one image in the batch\n",
    "grayscale_cam = grayscale_cam[0, :]\n",
    "\n",
    "cam_image = show_cam_on_image(rgb_img, grayscale_cam)\n",
    "cv2.imwrite(f'database/patient5/Patient5_CAM.png', cam_image)\n",
    "\n",
    "COVID_PATH = f\"data/training/COVID/\"\n",
    "NO_COVID_PATH = f\"data/training/NonCOVID/\"\n",
    "image_path1 = f\"{COVID_PATH}2020.01.24.919183-p27-132.png\"\n",
    "image_path2 = f\"{NO_COVID_PATH}30_0.jpg\"\n",
    "print(infer_many([image_path1, image_path2]))\n",
    "# print(infer_single(image_path2))"
   ]
  },
  {
   "cell_type": "code",
   "execution_count": null,
   "metadata": {},
   "outputs": [],
   "source": []
  }
 ],
 "metadata": {
  "kernelspec": {
   "display_name": "treehax2",
   "language": "python",
   "name": "python3"
  },
  "language_info": {
   "codemirror_mode": {
    "name": "ipython",
    "version": 3
   },
   "file_extension": ".py",
   "mimetype": "text/x-python",
   "name": "python",
   "nbconvert_exporter": "python",
   "pygments_lexer": "ipython3",
   "version": "3.8.16"
  },
  "orig_nbformat": 4,
  "vscode": {
   "interpreter": {
    "hash": "e5c270835f943f205dc16370f820da5f97c4f44c99154512e57f32882d48c125"
   }
  }
 },
 "nbformat": 4,
 "nbformat_minor": 2
}
